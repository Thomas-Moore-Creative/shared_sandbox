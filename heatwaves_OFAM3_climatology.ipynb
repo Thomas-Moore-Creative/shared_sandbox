{
 "cells": [
  {
   "cell_type": "markdown",
   "id": "419de06c-671b-4f6a-a236-e61613c5de8c",
   "metadata": {},
   "source": [
    "# XMHW tests on the OFAM3 dataset\n",
    "\n",
    "Purpose\n",
    "-------\n",
    "    The following will investigate the capability of xmhw to parallelise the MHW analysis on a subset of temperature data from the OFAM3 - 10th degree resolution global simulation from 1980-2100. The simulation runs from 1980 to 2006 under JRA55 atmospheric forcing, and thereafter the reanalysis is repeated but with the addition of the RCP8.5 climate trend.\n",
    "\n",
    "    Contents:\n",
    "        1. Load in Temperature Data and visualise (2D in space, 1D in time)\n",
    "        2. Select the region around Australia to perform the heatwave analysis and throw rest away\n",
    "        3. Calculate the climatology required for the heatwave analysis and save as a new netcdf file\n",
    "            [ this will be read in later and in a new session for performing the heatwave analysis ]\n",
    "        4. Perform heatwave analysis using xmhw by iterating around the subsetted grid\n",
    "\n",
    "Thanks to John Reilly for sharing his [code](https://github.com/Thomas-Moore-Creative/shared_sandbox/blob/main/mhw-3d-scalingTests-gadiJup.ipynb)\n",
    "    \n"
   ]
  },
  {
   "cell_type": "markdown",
   "id": "480c58ad-73b8-40c7-a1b5-dae764d4da2d",
   "metadata": {},
   "source": [
    "### imports"
   ]
  },
  {
   "cell_type": "code",
   "execution_count": null,
   "id": "d3da1622-667b-4d94-9c6b-dfb7379fc7dc",
   "metadata": {},
   "outputs": [],
   "source": [
    "import sys\n",
    "import os\n",
    "\n",
    "### data handling\n",
    "import numpy as np\n",
    "import pandas as pd\n",
    "import xarray as xr\n",
    "import scipy as sci\n",
    "\n",
    "### plotting\n",
    "import matplotlib.pyplot as plt\n",
    "from matplotlib import ticker\n",
    "from matplotlib.gridspec import GridSpec\n",
    "import matplotlib.colors as mcolors\n",
    "import cartopy.crs as ccrs\n",
    "import cartopy.feature as cfeature\n",
    "import cmocean.cm as cmo\n",
    "from cmocean.tools import lighten\n",
    "\n",
    "### marine heatwaves python package\n",
    "from xmhw.xmhw import threshold, detect\n",
    "\n",
    "# print versions of packages\n",
    "print(\"python version =\",sys.version[:5])\n",
    "print(\"numpy version =\", np.__version__)\n",
    "print(\"pandas version =\", pd.__version__)\n",
    "print(\"xarray version =\", xr.__version__)\n",
    "print(\"scipy version =\", sci.__version__)\n",
    "print(\"matplotlib version =\", sys.modules[plt.__package__].__version__)\n",
    "print(\"cmocean version =\", sys.modules[cmo.__package__].__version__)\n",
    "print(\"cartopy version =\", sys.modules[ccrs.__package__].__version__)\n",
    "\n",
    "\n",
    "wrkdir = \"/g/data/fp2/OFAM3\"\n",
    "os.chdir(wrkdir)\n"
   ]
  },
  {
   "cell_type": "markdown",
   "id": "e3c4c3b6-9bca-4dd2-a7ad-baadb16170a2",
   "metadata": {},
   "source": [
    "### remove warnings"
   ]
  },
  {
   "cell_type": "code",
   "execution_count": null,
   "id": "3e483173-e827-4867-89d8-425c34705d23",
   "metadata": {},
   "outputs": [],
   "source": [
    "import warnings\n",
    "warnings.filterwarnings('ignore')"
   ]
  },
  {
   "cell_type": "markdown",
   "id": "616968f8-0e4e-4190-a071-ec6430aa13ec",
   "metadata": {},
   "source": [
    "### import the dask client for assessing performance"
   ]
  },
  {
   "cell_type": "code",
   "execution_count": null,
   "id": "77af984c-f57e-4c84-99af-5f9f0097adc1",
   "metadata": {},
   "outputs": [],
   "source": [
    "from dask.distributed import Client\n",
    "client = Client(threads_per_worker=2)\n",
    "client"
   ]
  },
  {
   "cell_type": "markdown",
   "id": "fbe173d9-7659-4013-b0da-3373ce468132",
   "metadata": {},
   "source": [
    "## grab the historical temperature data from fp2"
   ]
  },
  {
   "cell_type": "code",
   "execution_count": null,
   "id": "636fa702-5a72-4e99-89a4-a16e83d2834d",
   "metadata": {},
   "outputs": [],
   "source": [
    "sst = xr.open_mfdataset(\"./jra55_historical.1/surface/ocean_temp_sfc_*.nc\", combine='by_coords').squeeze()\n",
    "\n",
    "x1 = 1000\n",
    "x2 = 1650\n",
    "y1 = 250\n",
    "y2 = 700\n",
    "\n",
    "\n",
    "plt.figure()\n",
    "plt.pcolormesh(sst['temp'].isel(Time=0))\n",
    "plt.plot((x1,x1),(y1,y2), 'r-')\n",
    "plt.plot((x2,x2),(y1,y2), 'r-')\n",
    "plt.plot((x1,x2),(y1,y1), 'r-')\n",
    "plt.plot((x1,x2),(y2,y2), 'r-')\n",
    "plt.colorbar()\n",
    "\n"
   ]
  },
  {
   "cell_type": "markdown",
   "id": "d5512ff9-0900-4322-b8f6-439429acf0c0",
   "metadata": {},
   "source": [
    "## subset the data to be only around the australian continent"
   ]
  },
  {
   "cell_type": "code",
   "execution_count": null,
   "id": "6abf01a0-bab5-444f-9ebf-358a7d927b0b",
   "metadata": {},
   "outputs": [],
   "source": [
    "sst = sst.isel(yt_ocean=slice(y1,y2), xt_ocean=slice(x1,x2)).drop_vars('st_ocean')\n",
    "sst = sst['temp'].rename({\"Time\":\"time\"}).compute()\n",
    "sst\n"
   ]
  },
  {
   "cell_type": "code",
   "execution_count": null,
   "id": "44b61d8d-5424-415f-a528-098838f96217",
   "metadata": {},
   "outputs": [],
   "source": [
    "print(\"Historical SST dataset = %i Gb\"%(sst.nbytes/1e9))\n"
   ]
  },
  {
   "cell_type": "markdown",
   "id": "6b83c9c1-f6e4-40ce-9ccd-a8f9e6a2f0a7",
   "metadata": {},
   "source": [
    "## iterate around the australian continent and compute the heatwaves"
   ]
  },
  {
   "cell_type": "markdown",
   "id": "64ab0c33-370f-4418-9240-19b7bf729460",
   "metadata": {},
   "source": [
    "### calculate the climatology\n",
    "    which we will use later for calculating the marine heatwaves in a subsequent step"
   ]
  },
  {
   "cell_type": "code",
   "execution_count": null,
   "id": "a3e8c55b-e5ca-4ed3-83bf-033729808135",
   "metadata": {},
   "outputs": [],
   "source": [
    "%%time\n",
    "\n",
    "sst['doy'] = sst['time'].dt.dayofyear\n",
    "sst = sst.chunk({\"time\":-1, \"yt_ocean\":10, \"xt_ocean\":10})\n",
    "sst\n"
   ]
  },
  {
   "cell_type": "markdown",
   "id": "0db02410-b6c2-4a35-b9f2-0d86ffb86021",
   "metadata": {},
   "source": [
    "### calculate the daily climatology and 90th percentile threshold to define a MHW"
   ]
  },
  {
   "cell_type": "code",
   "execution_count": null,
   "id": "8f8a324e-83c8-40f0-9407-9659bf5a58e0",
   "metadata": {},
   "outputs": [],
   "source": [
    "%%time\n",
    "\n",
    "ii = 0\n",
    "jj = 0\n",
    "di = 50\n",
    "dj = 50\n",
    "\n",
    "print(\"Calculating the climatology and threshold\")\n",
    "seas_list = []\n",
    "thresh_list = []\n",
    "for ii in np.arange(0,len(sst.coords['xt_ocean']),di):\n",
    "    print(ii)\n",
    "    for jj in np.arange(0,len(sst.coords['yt_ocean']),dj):\n",
    "        tmp = sst.isel(xt_ocean=slice(ii,ii+di), yt_ocean=slice(jj,jj+dj))\n",
    "        seas_list.append(tmp.groupby('doy').mean(dim='time').compute())\n",
    "        thresh_list.append(tmp.groupby('doy').quantile(0.9, dim='time', skipna=True).compute())\n",
    "\n",
    "        \n",
    "### merge the lists into single xarrays with the results\n",
    "print(\"Merging results\")\n",
    "seas_new = xr.merge(seas_list)\n",
    "thresh_new = xr.merge(thresh_list)\n"
   ]
  },
  {
   "cell_type": "markdown",
   "id": "520b9e45-6104-4562-be97-4fe567e3b513",
   "metadata": {},
   "source": [
    "### perform rolling mean average (moving window) across the time dimension and snip ends"
   ]
  },
  {
   "cell_type": "code",
   "execution_count": null,
   "id": "58108a79-ad2d-4f50-b4d3-3331b8343c4f",
   "metadata": {},
   "outputs": [],
   "source": [
    "climatology = seas_new.pad(doy=(31-1)//2, mode='wrap').rolling(doy=31, center=True).mean()\n",
    "threshold90 = thresh_new.pad(doy=(31-1)//2, mode='wrap').rolling(doy=31, center=True).mean(skipna=True)\n",
    "\n",
    "climatology = climatology.chunk({'doy':-1, 'yt_ocean':50, 'xt_ocean':50}).isel(doy=slice(15,-15))\n",
    "threshold90 = threshold90.chunk({'doy':-1, 'yt_ocean':50, 'xt_ocean':50}).isel(doy=slice(15,-15)).drop_vars('quantile')\n",
    "\n"
   ]
  },
  {
   "cell_type": "code",
   "execution_count": null,
   "id": "15d3c916-bc94-404d-899d-32bb700b432c",
   "metadata": {},
   "outputs": [],
   "source": [
    "print(\"Size (Mb) of daily climatology = %i\"%(climatology.nbytes/1e6))\n",
    "print(\"Size (Mb) of daily threshold90 = %i\"%(threshold90.nbytes/1e6))"
   ]
  },
  {
   "cell_type": "markdown",
   "id": "bc195aa7-f885-44c5-a1dd-2e969326f766",
   "metadata": {},
   "source": [
    "### save to disk"
   ]
  },
  {
   "cell_type": "code",
   "execution_count": null,
   "id": "2089baac-1767-4e0f-a37f-29689649a896",
   "metadata": {},
   "outputs": [],
   "source": [
    "%%time\n",
    "os.chdir(\"/g/data/es60/pjb581/heatwaves\")\n",
    "os.getcwd()\n",
    "\n",
    "print(\"Saving climatology and threshold to disk\")\n",
    "climatology.to_netcdf('Australian_SST_daily_climatology.nc', mode='w')\n",
    "threshold90.to_netcdf('Australian_SST_daily_MHWthreshold.nc', mode='w')\n"
   ]
  }
 ],
 "metadata": {
  "kernelspec": {
   "display_name": "Python 3 (ipykernel)",
   "language": "python",
   "name": "python3"
  },
  "language_info": {
   "codemirror_mode": {
    "name": "ipython",
    "version": 3
   },
   "file_extension": ".py",
   "mimetype": "text/x-python",
   "name": "python",
   "nbconvert_exporter": "python",
   "pygments_lexer": "ipython3",
   "version": "3.10.13"
  }
 },
 "nbformat": 4,
 "nbformat_minor": 5
}
